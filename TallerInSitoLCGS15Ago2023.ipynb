{
  "cells": [
    {
      "cell_type": "markdown",
      "metadata": {
        "id": "view-in-github",
        "colab_type": "text"
      },
      "source": [
        "<a href=\"https://colab.research.google.com/github/darwinyusef/insitoLCGS/blob/master/TallerInSitoLCGS15Ago2023.ipynb\" target=\"_parent\"><img src=\"https://colab.research.google.com/assets/colab-badge.svg\" alt=\"Open In Colab\"/></a>"
      ]
    },
    {
      "cell_type": "code",
      "execution_count": null,
      "metadata": {
        "colab": {
          "base_uri": "https://localhost:8080/"
        },
        "id": "Twlg3k704Ym9",
        "outputId": "4b524003-1c2f-4ae9-a4aa-7fa1122adf13"
      },
      "outputs": [
        {
          "name": "stdout",
          "output_type": "stream",
          "text": [
            "Hola mundo\n"
          ]
        }
      ],
      "source": [
        "print('Hola mundo')"
      ]
    },
    {
      "cell_type": "code",
      "execution_count": null,
      "metadata": {
        "colab": {
          "background_save": true,
          "base_uri": "https://localhost:8080/"
        },
        "id": "fwUc6UJi4bwW",
        "outputId": "7ca36a62-9ff7-4824-d46a-bb8589873d2d"
      },
      "outputs": [
        {
          "name": "stdout",
          "output_type": "stream",
          "text": [
            "Mi vecino es muy amable\n"
          ]
        }
      ],
      "source": [
        "print('Mi vecino es muy amable')"
      ]
    },
    {
      "cell_type": "code",
      "source": [
        "mivariable = 'esta muy cara la gasolina'\n",
        "print(mivariable)"
      ],
      "metadata": {
        "colab": {
          "base_uri": "https://localhost:8080/"
        },
        "id": "O5kZxrDv5LrA",
        "outputId": "bc704e00-7751-478d-ba48-6f4e0188446d"
      },
      "execution_count": null,
      "outputs": [
        {
          "output_type": "stream",
          "name": "stdout",
          "text": [
            "esta muy cara la gasolina\n"
          ]
        }
      ]
    },
    {
      "cell_type": "code",
      "source": [
        "costoGasolina = 13500\n",
        "print(mivariable + ' ' + str(costoGasolina))"
      ],
      "metadata": {
        "colab": {
          "base_uri": "https://localhost:8080/"
        },
        "id": "rrukE0gx5asd",
        "outputId": "474613aa-eaf6-49fd-d027-75149e5235f1"
      },
      "execution_count": null,
      "outputs": [
        {
          "output_type": "stream",
          "name": "stdout",
          "text": [
            "esta muy cara la gasolina 13500\n"
          ]
        }
      ]
    },
    {
      "cell_type": "code",
      "source": [
        "dolarHoy = 4040\n",
        "\n",
        "valorUsaGasolina = (4040 * 4.156)\n",
        "valorGasolina =  valorUsaGasolina - costoGasolina\n",
        "print(\"Valor menos Colombia \" + str(valorGasolina))\n",
        "print('Valor en usa: ' + str(valorUsaGasolina))"
      ],
      "metadata": {
        "colab": {
          "base_uri": "https://localhost:8080/"
        },
        "id": "luGd5PSf5fDd",
        "outputId": "1aed898e-6a9d-47c0-d907-8cda02bc42ea"
      },
      "execution_count": null,
      "outputs": [
        {
          "output_type": "stream",
          "name": "stdout",
          "text": [
            "Valor menos Colombia 3290.239999999998\n",
            "Valor en usa: 16790.239999999998\n"
          ]
        }
      ]
    },
    {
      "cell_type": "code",
      "source": [
        "print(f\"Valor menos Colombia {str(round(valorGasolina, 2))} y el valor en usa: {str(valorUsaGasolina)}\" )"
      ],
      "metadata": {
        "colab": {
          "base_uri": "https://localhost:8080/"
        },
        "id": "8bWns_F89N3Q",
        "outputId": "68a8e93d-2678-40b5-bf2f-d60372b35567"
      },
      "execution_count": null,
      "outputs": [
        {
          "output_type": "stream",
          "name": "stdout",
          "text": [
            "Valor menos Colombia 3290.24 y el valor en usa: 16790.239999999998\n"
          ]
        }
      ]
    },
    {
      "cell_type": "code",
      "source": [
        "pregunta1 = input('¿Dónde te gustaría viajar fuera del país? ')\n",
        "pregunta2 = input('¿Cual es el deporte favorito y que practicas? ')\n",
        "pregunta3 = input('¿Cúal es tu grupo músical favorito? ')\n",
        "\n",
        "print(f\"Respuesta1: {pregunta1} Respuesta2: {pregunta2} Respuesta3: {pregunta3}\" )"
      ],
      "metadata": {
        "colab": {
          "base_uri": "https://localhost:8080/"
        },
        "id": "Mwx5MtiI-vnU",
        "outputId": "d62bc36d-d2c1-4762-adcf-f8f3408d1f91"
      },
      "execution_count": null,
      "outputs": [
        {
          "output_type": "stream",
          "name": "stdout",
          "text": [
            "¿Dónde te gustaría viajar fuera del país? Brasil\n",
            "¿Cual es el deporte favorito y que practicas? Ciclismo\n",
            "¿Cúal es tu grupo músical favorito? Aerosmith\n",
            "Respuesta1: Brasil Respuesta2: Ciclismo Respuesta3: Aerosmith\n"
          ]
        }
      ]
    },
    {
      "cell_type": "code",
      "source": [
        "sumarNumeros = 20 + 40 + 50\n",
        "print(str(sumarNumeros))"
      ],
      "metadata": {
        "colab": {
          "base_uri": "https://localhost:8080/"
        },
        "id": "llI7C1-7Cnt1",
        "outputId": "444dccd7-617e-46fd-bf48-caddc20964da"
      },
      "execution_count": null,
      "outputs": [
        {
          "output_type": "stream",
          "name": "stdout",
          "text": [
            "110\n"
          ]
        }
      ]
    }
  ],
  "metadata": {
    "colab": {
      "provenance": [],
      "authorship_tag": "ABX9TyOFFFuujPfzlUn9LOQPijVc",
      "include_colab_link": true
    },
    "kernelspec": {
      "display_name": "Python 3",
      "name": "python3"
    },
    "language_info": {
      "name": "python"
    }
  },
  "nbformat": 4,
  "nbformat_minor": 0
}